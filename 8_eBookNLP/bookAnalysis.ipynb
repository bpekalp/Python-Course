{
 "cells": [
  {
   "cell_type": "markdown",
   "metadata": {},
   "source": [
    "# Read The Book\n"
   ]
  },
  {
   "cell_type": "code",
   "execution_count": 11,
   "metadata": {},
   "outputs": [],
   "source": [
    "with open(\"datas/miracle_in_the_andes.txt\", \"r\") as file:\n",
    "    book = file.read()"
   ]
  },
  {
   "cell_type": "markdown",
   "metadata": {},
   "source": [
    "## How Many Chapters Are There?\n"
   ]
  },
  {
   "cell_type": "markdown",
   "metadata": {},
   "source": [
    "### Calculate Using String Methods\n"
   ]
  },
  {
   "cell_type": "code",
   "execution_count": 12,
   "metadata": {},
   "outputs": [
    {
     "name": "stdout",
     "output_type": "stream",
     "text": [
      "There are 11 chapters in the book.\n"
     ]
    }
   ],
   "source": [
    "chapterCount = book.count(\"Chapter\")\n",
    "print(f\"There are {chapterCount} chapters in the book.\")"
   ]
  },
  {
   "cell_type": "markdown",
   "metadata": {},
   "source": [
    "### Calculate Using Regular Expressions (Regex)\n"
   ]
  },
  {
   "cell_type": "code",
   "execution_count": 13,
   "metadata": {},
   "outputs": [
    {
     "name": "stdout",
     "output_type": "stream",
     "text": [
      "There are 10 chapters in the book.\n",
      "Found chapters are:\n",
      "Chapter 1\n",
      "Chapter 2\n",
      "Chapter 3\n",
      "Chapter 4\n",
      "Chapter 5\n",
      "Chapter 6\n",
      "Chapter 7\n",
      "Chapter 8\n",
      "Chapter 9\n",
      "Chapter 10\n"
     ]
    }
   ],
   "source": [
    "import re\n",
    "\n",
    "pattern = re.compile(\"Chapter [0-9]+\")\n",
    "foundPatterns = re.findall(pattern, book)\n",
    "chapterCount = len(foundPatterns)\n",
    "print(f\"There are {chapterCount} chapters in the book.\")\n",
    "print(\"Found chapters are:\")\n",
    "for element in foundPatterns:\n",
    "    print(element)"
   ]
  },
  {
   "cell_type": "markdown",
   "metadata": {},
   "source": [
    "## Every Sentence That Contains The Word \"Love\"\n"
   ]
  },
  {
   "cell_type": "code",
   "execution_count": 14,
   "metadata": {},
   "outputs": [
    {
     "name": "stdout",
     "output_type": "stream",
     "text": [
      "There are 67 sentences with the word 'love' in them.\n"
     ]
    }
   ],
   "source": [
    "pattern = re.compile(\"[A-Z]{1}[^.]*[^A-Za-z]+love[^A-Za-z]+[^.]*.\")\n",
    "foundPatterns = re.findall(pattern, book)\n",
    "sentenceCount = len(foundPatterns)\n",
    "print(f\"There are {sentenceCount} sentences with the word 'love' in them.\")"
   ]
  },
  {
   "cell_type": "markdown",
   "metadata": {},
   "source": [
    "## What Are The Most Used Words\n"
   ]
  },
  {
   "cell_type": "code",
   "execution_count": null,
   "metadata": {},
   "outputs": [
    {
     "name": "stdout",
     "output_type": "stream",
     "text": [
      "There are 86798 words in the book.\n",
      "Top five words are:\n",
      "'the' with count of 5346\n",
      "Frequency: 0.06159128\n",
      "Probability: 6.1591%\n",
      "\n",
      "'and' with count of 2795\n",
      "Frequency: 0.03220120\n",
      "Probability: 3.2201%\n",
      "\n",
      "'i' with count of 2729\n",
      "Frequency: 0.03144082\n",
      "Probability: 3.1441%\n",
      "\n",
      "'to' with count of 2400\n",
      "Frequency: 0.02765041\n",
      "Probability: 2.7650%\n",
      "\n",
      "'of' with count of 2060\n",
      "Frequency: 0.02373327\n",
      "Probability: 2.3733%\n",
      "\n"
     ]
    }
   ],
   "source": [
    "pattern = re.compile(\"[A-Za-z]+\")\n",
    "foundPatterns = re.findall(pattern, book.lower())\n",
    "wordAmount = len(foundPatterns)\n",
    "print(f\"There are {wordAmount} words in the book.\")\n",
    "\n",
    "import collections\n",
    "\n",
    "wordCounts = collections.Counter(foundPatterns)\n",
    "\n",
    "print(\"Top five words are:\")\n",
    "for word, count in wordCounts.most_common(5):\n",
    "    frequency = count / wordAmount\n",
    "    perc = frequency * 100.0\n",
    "\n",
    "    print(f\"'{word}' with count of {count}\")\n",
    "    print(f\"Frequency: {frequency:.8f}\")\n",
    "    print(f\"Probability: {perc:.4f}%\")\n",
    "    print()"
   ]
  }
 ],
 "metadata": {
  "kernelspec": {
   "display_name": ".venv",
   "language": "python",
   "name": "python3"
  },
  "language_info": {
   "codemirror_mode": {
    "name": "ipython",
    "version": 3
   },
   "file_extension": ".py",
   "mimetype": "text/x-python",
   "name": "python",
   "nbconvert_exporter": "python",
   "pygments_lexer": "ipython3",
   "version": "3.12.7"
  }
 },
 "nbformat": 4,
 "nbformat_minor": 2
}

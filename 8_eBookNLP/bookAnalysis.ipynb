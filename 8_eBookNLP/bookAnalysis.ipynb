{
 "cells": [
  {
   "cell_type": "markdown",
   "metadata": {},
   "source": [
    "# Read The Book"
   ]
  },
  {
   "cell_type": "code",
   "execution_count": 1,
   "metadata": {},
   "outputs": [],
   "source": [
    "with open(\"datas/miracle_in_the_andes.txt\", \"r\") as file:\n",
    "    book = file.read()"
   ]
  },
  {
   "cell_type": "markdown",
   "metadata": {},
   "source": [
    "## How Many Chapters Are There?"
   ]
  },
  {
   "cell_type": "markdown",
   "metadata": {},
   "source": [
    "### Calculate Using String Methods"
   ]
  },
  {
   "cell_type": "code",
   "execution_count": 2,
   "metadata": {},
   "outputs": [
    {
     "name": "stdout",
     "output_type": "stream",
     "text": [
      "There are 11 chapters in the book.\n"
     ]
    }
   ],
   "source": [
    "chapterCount = book.count(\"Chapter\")\n",
    "print(f\"There are {chapterCount} chapters in the book.\")"
   ]
  },
  {
   "cell_type": "markdown",
   "metadata": {},
   "source": [
    "### Calculate Using Regular Expressions (Regex)"
   ]
  },
  {
   "cell_type": "code",
   "execution_count": 3,
   "metadata": {},
   "outputs": [
    {
     "name": "stdout",
     "output_type": "stream",
     "text": [
      "There are 10 chapters in the book.\n",
      "Found chapters are:\n",
      "Chapter 1\n",
      "Chapter 2\n",
      "Chapter 3\n",
      "Chapter 4\n",
      "Chapter 5\n",
      "Chapter 6\n",
      "Chapter 7\n",
      "Chapter 8\n",
      "Chapter 9\n",
      "Chapter 10\n"
     ]
    }
   ],
   "source": [
    "import re\n",
    "\n",
    "pattern = re.compile(\"Chapter [0-9]+\")\n",
    "foundPatterns = re.findall(pattern, book)\n",
    "chapterCount = len(foundPatterns)\n",
    "print(f\"There are {chapterCount} chapters in the book.\")\n",
    "print(\"Found chapters are:\")\n",
    "for element in foundPatterns:\n",
    "    print(element)"
   ]
  },
  {
   "cell_type": "markdown",
   "metadata": {},
   "source": [
    "## Every Sentence That Contains The Word \"Love\""
   ]
  },
  {
   "cell_type": "code",
   "execution_count": 4,
   "metadata": {},
   "outputs": [
    {
     "name": "stdout",
     "output_type": "stream",
     "text": [
      "There are 67 sentences with the word 'love' in them.\n"
     ]
    }
   ],
   "source": [
    "pattern = re.compile(\"[A-Z]{1}[^.]*[^A-Za-z]+love[^A-Za-z]+[^.]*.\")\n",
    "foundPatterns = re.findall(pattern, book)\n",
    "sentenceCount = len(foundPatterns)\n",
    "print(f\"There are {sentenceCount} sentences with the word 'love' in them.\")"
   ]
  }
 ],
 "metadata": {
  "kernelspec": {
   "display_name": ".venv",
   "language": "python",
   "name": "python3"
  },
  "language_info": {
   "codemirror_mode": {
    "name": "ipython",
    "version": 3
   },
   "file_extension": ".py",
   "mimetype": "text/x-python",
   "name": "python",
   "nbconvert_exporter": "python",
   "pygments_lexer": "ipython3",
   "version": "3.12.7"
  }
 },
 "nbformat": 4,
 "nbformat_minor": 2
}

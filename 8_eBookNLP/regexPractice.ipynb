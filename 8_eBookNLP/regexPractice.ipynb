{
 "cells": [
  {
   "cell_type": "markdown",
   "metadata": {},
   "source": [
    "# Import Modules\n"
   ]
  },
  {
   "cell_type": "code",
   "execution_count": 10,
   "metadata": {},
   "outputs": [],
   "source": [
    "import re\n",
    "import collections"
   ]
  },
  {
   "cell_type": "markdown",
   "metadata": {},
   "source": [
    "# Read The Book\n"
   ]
  },
  {
   "cell_type": "code",
   "execution_count": 11,
   "metadata": {},
   "outputs": [],
   "source": [
    "with open(\"datas/miracle_in_the_andes.txt\", \"r\") as file:\n",
    "    book = file.read()"
   ]
  },
  {
   "cell_type": "markdown",
   "metadata": {},
   "source": [
    "## Extract The Paragraphs With The Word \"love\" In Them\n"
   ]
  },
  {
   "cell_type": "code",
   "execution_count": 12,
   "metadata": {},
   "outputs": [
    {
     "name": "stdout",
     "output_type": "stream",
     "text": [
      "['To me, this is the essence of rugby. No other sport gives you such an intense sense of selflessness and unified purpose. I believe this is why rugby players all over the world feel such a passion for the game and such a feeling of brotherhood. As a young man, of course, I could not put these things into words, but I knew, and my teammates knew, that there was something special about the game, and under the guidance of the Christian Brothers we developed a passionate love ', 'There were others—Alexis Hounie, Gastón Costemalle, Daniel Shaw—all of them great players and all of them my friends. But my oldest friend was Guido Magri. He and I had met on my first day at the Stella Maris School—I was eight years old and Guido was one year older—and we had been inseparable ever since. Guido and I grew up together, playing soccer and sharing a love of motorcycles, cars, and auto racing. When I was fifteen we both had mopeds that we had modified in silly ways—removing the mufflers, turn signals, and fenders—and we would ride them to Las Delicias, a famous ice cream parlor in our neighborhood, where we would drool over the girls from the nearby School Sagrado Corazón, hoping to impress them with our souped-up scooters. Guido was a dependable friend, with a good sense of humor and an easy laugh. He was also an outstanding scrum half, as quick and smart as a fox, with good hands and great courage. Under the guidance of the Christian Brothers, both of us grew to love the game of rugby with a consuming passion. As seasons passed we worked hard to improve our skills, and by the time I was fifteen we had each earned a spot on the Stella Maris First XV, the team’s starting lineup. After graduation, both of us went on to join the Old Christians and spent several happy seasons pursuing the high-octane social life of young rugby players. That rowdiness came to an abrupt end for Guido in 1969, when he met and fell in love ', 'I always laughed when he talked this way, but I could not ignore the hidden streak of anger and sadness that those questions revealed. I did not judge him for this, because I knew it was all the result of a broken heart. Panchito’s parents had divorced when he was fourteen years old. It was a disaster that had wounded him in ways he could not heal and had left him with much resentment. He had two brothers, and a stepbrother from his father’s previous marriage, but still, there was something missing for him. I believe he had a great hunger for the love ']\n"
     ]
    }
   ],
   "source": [
    "pattern = re.compile(\"[^\\n]+love[^\\n]\")\n",
    "paragraphs = re.findall(pattern, book)\n",
    "print(paragraphs[:3])"
   ]
  },
  {
   "cell_type": "markdown",
   "metadata": {},
   "source": [
    "## Extract Chapter Titles\n"
   ]
  },
  {
   "cell_type": "code",
   "execution_count": 13,
   "metadata": {},
   "outputs": [
    {
     "name": "stdout",
     "output_type": "stream",
     "text": [
      "Chapter 1, Before\n",
      "Chapter 2, Everything Precious\n",
      "Chapter 3, A Promise\n",
      "Chapter 4, Breathe Once More\n",
      "Chapter 5, Abandoned\n",
      "Chapter 6, Tomb\n",
      "Chapter 7, East\n",
      "Chapter 8, The Opposite of Death\n",
      "Chapter 9, I See a Man\n",
      "Chapter 10, After\n"
     ]
    }
   ],
   "source": [
    "pattern = re.compile(\"([A-Za-z ]+)\\n\\n\")\n",
    "titles = re.findall(pattern, book)\n",
    "\n",
    "for i, title in enumerate(titles, start=1):\n",
    "    print(f\"Chapter {i}, {title}\")"
   ]
  },
  {
   "cell_type": "markdown",
   "metadata": {},
   "source": [
    "## Function To Return Occurrence Of Any Word\n"
   ]
  },
  {
   "cell_type": "code",
   "execution_count": null,
   "metadata": {},
   "outputs": [
    {
     "name": "stdout",
     "output_type": "stream",
     "text": [
      "'hello' is seen 1 times in the book.\n"
     ]
    }
   ],
   "source": [
    "def findOccurrence(word):\n",
    "    pattern = re.compile(\"[A-Za-z]+\")\n",
    "    words = re.findall(pattern, book.lower())\n",
    "\n",
    "    wordsCount = collections.Counter(words)\n",
    "    wordsDict = dict(wordsCount)\n",
    "\n",
    "    if not word in wordsDict.keys():\n",
    "        return 0\n",
    "\n",
    "    return wordsDict[word]\n",
    "\n",
    "\n",
    "userWord = input(\"Enter a word: \")\n",
    "count = findOccurrence(userWord)\n",
    "if count == 0:\n",
    "    print(f\"The book doesn't contain '{userWord}'\")\n",
    "\n",
    "else:\n",
    "    print(f\"'{userWord}' is seen {count} times in the book.\")"
   ]
  }
 ],
 "metadata": {
  "kernelspec": {
   "display_name": ".venv",
   "language": "python",
   "name": "python3"
  },
  "language_info": {
   "codemirror_mode": {
    "name": "ipython",
    "version": 3
   },
   "file_extension": ".py",
   "mimetype": "text/x-python",
   "name": "python",
   "nbconvert_exporter": "python",
   "pygments_lexer": "ipython3",
   "version": "3.12.7"
  }
 },
 "nbformat": 4,
 "nbformat_minor": 2
}

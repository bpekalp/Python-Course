{
 "cells": [
  {
   "cell_type": "markdown",
   "id": "505dd7c6-a8fb-4f21-a81e-1542a831f8b7",
   "metadata": {},
   "source": [
    "# Import Libraries\n"
   ]
  },
  {
   "cell_type": "code",
   "execution_count": null,
   "id": "bac9100b-c6a5-44e5-8b6b-94e30971fec9",
   "metadata": {},
   "outputs": [],
   "source": [
    "import pandas as pd\n",
    "import matplotlib.pyplot as plt"
   ]
  },
  {
   "cell_type": "markdown",
   "id": "5c981928-6393-414b-89ac-4f2d7577be73",
   "metadata": {},
   "source": [
    "# Read Data Of Station Number 1\n"
   ]
  },
  {
   "cell_type": "code",
   "execution_count": null,
   "id": "712c1129-0181-4e61-a9f4-8dd589c8648b",
   "metadata": {
    "scrolled": true
   },
   "outputs": [],
   "source": [
    "data = pd.read_csv(\n",
    "    \"../../data/weatherData/TG_STAID000001.txt\", skiprows=20, parse_dates=[\"    DATE\"]\n",
    ")\n",
    "df = data.copy()\n",
    "df"
   ]
  },
  {
   "cell_type": "markdown",
   "id": "d7278bcf-f668-470a-a18b-45869056d187",
   "metadata": {},
   "source": [
    "## Strip Whitespace From DataFrame\n"
   ]
  },
  {
   "cell_type": "code",
   "execution_count": null,
   "id": "b2fbd9a7-6382-436c-be28-d76f60787f05",
   "metadata": {},
   "outputs": [],
   "source": [
    "df.columns = df.columns.str.strip()\n",
    "df.columns"
   ]
  },
  {
   "cell_type": "markdown",
   "id": "dd8f3002-9492-4279-8af9-b6ae9a726c8c",
   "metadata": {},
   "source": [
    "## Calculate Average Temperature\n"
   ]
  },
  {
   "cell_type": "code",
   "execution_count": null,
   "id": "f1e30770-c42e-44ce-9dd8-a6ab27461bc2",
   "metadata": {},
   "outputs": [],
   "source": [
    "df[\"TG\"].mean()"
   ]
  },
  {
   "cell_type": "markdown",
   "id": "32f67365-9030-4b58-b31f-7b323fc2aa1f",
   "metadata": {},
   "source": [
    "## Filter Missing Observations And Display Basic Data\n"
   ]
  },
  {
   "cell_type": "code",
   "execution_count": null,
   "id": "fc7338e0-a868-4617-af2b-92b6378bfa6e",
   "metadata": {},
   "outputs": [],
   "source": [
    "df = df.loc[df[\"Q_TG\"] != 9]\n",
    "mean = df[\"TG\"].mean()\n",
    "maximum = df[\"TG\"].max()\n",
    "minimum = df[\"TG\"].min()\n",
    "\n",
    "msg = f\"\"\"\\\n",
    "Mean: {mean}\n",
    "Max: {maximum}\n",
    "Min: {minimum}\n",
    "\"\"\"\n",
    "print(msg)"
   ]
  },
  {
   "cell_type": "markdown",
   "id": "63a0885d",
   "metadata": {},
   "source": [
    "## Create New Temperature And Fahrenheit Columns\n"
   ]
  },
  {
   "cell_type": "code",
   "execution_count": null,
   "id": "18512a01",
   "metadata": {},
   "outputs": [],
   "source": [
    "df[\"ORIGINAL_TG\"], df[\"TG\"] = df[\"TG\"], df[\"TG\"] / 10.0\n",
    "df[\"TG_F\"] = (9.0 / 5.0) * df[\"TG\"] + 32\n",
    "\n",
    "df"
   ]
  },
  {
   "cell_type": "markdown",
   "id": "1d3fde60-13b5-47d7-8f56-e7b3996425ec",
   "metadata": {},
   "source": [
    "### Histogram Plot For Temperatures\n"
   ]
  },
  {
   "cell_type": "code",
   "execution_count": null,
   "id": "025f21f3-52a7-4208-b02e-035cd88606e2",
   "metadata": {},
   "outputs": [],
   "source": [
    "plt.figure(figsize=(10, 5))\n",
    "\n",
    "plt.subplot(1, 2, 1)\n",
    "df[\"TG\"].hist()\n",
    "plt.title(\"Histogram of TG\")\n",
    "\n",
    "plt.subplot(1, 2, 2)\n",
    "df[\"TG_F\"].hist()\n",
    "plt.title(\"Histogram of TG_F\")\n",
    "\n",
    "plt.tight_layout()\n",
    "plt.show()"
   ]
  },
  {
   "cell_type": "markdown",
   "id": "30335b29",
   "metadata": {},
   "source": [
    "### Get Temperature Of Specified Date\n"
   ]
  },
  {
   "cell_type": "code",
   "execution_count": null,
   "id": "96c1fbd1",
   "metadata": {},
   "outputs": [],
   "source": [
    "temperature = df.loc[df[\"DATE\"] == \"1914-07-27\"][\"TG\"].squeeze()\n",
    "print(temperature)"
   ]
  }
 ],
 "metadata": {
  "kernelspec": {
   "display_name": ".venv",
   "language": "python",
   "name": "python3"
  },
  "language_info": {
   "codemirror_mode": {
    "name": "ipython",
    "version": 3
   },
   "file_extension": ".py",
   "mimetype": "text/x-python",
   "name": "python",
   "nbconvert_exporter": "python",
   "pygments_lexer": "ipython3",
   "version": "3.12.7"
  }
 },
 "nbformat": 4,
 "nbformat_minor": 5
}
